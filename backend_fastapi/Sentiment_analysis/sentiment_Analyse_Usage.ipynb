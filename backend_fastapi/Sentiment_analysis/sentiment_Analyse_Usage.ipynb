{
 "cells": [
  {
   "cell_type": "code",
   "execution_count": 150,
   "metadata": {},
   "outputs": [],
   "source": [
    "import numpy as np\n",
    "from tensorflow.keras.models import load_model\n",
    "from tensorflow.keras.preprocessing.text import Tokenizer\n",
    "from tensorflow.keras.preprocessing.sequence import pad_sequences\n",
    "from sklearn.preprocessing import LabelEncoder\n",
    "from tensorflow.keras.preprocessing.text import tokenizer_from_json\n",
    "import json"
   ]
  },
  {
   "cell_type": "code",
   "execution_count": 151,
   "metadata": {},
   "outputs": [
    {
     "name": "stderr",
     "output_type": "stream",
     "text": [
      "WARNING:absl:Compiled the loaded model, but the compiled metrics have yet to be built. `model.compile_metrics` will be empty until you train or evaluate the model.\n"
     ]
    },
    {
     "name": "stdout",
     "output_type": "stream",
     "text": [
      "['Beruhigung' 'Erleichterung' 'Freude' 'Motivation' 'Neutral' 'Warnung']\n"
     ]
    }
   ],
   "source": [
    "model = load_model('../ai_models/Sentiment_AI_GloVe.h5')\n",
    "\n",
    "#labels = np.load('../ai_models/labels_to_numbers_full.npy')\n",
    "labels = np.load(\"../ai_models/sentiment_labels_to_numbers.npy\", allow_pickle=True)\n",
    "print(labels)"
   ]
  },
  {
   "cell_type": "code",
   "execution_count": 152,
   "metadata": {},
   "outputs": [
    {
     "name": "stdout",
     "output_type": "stream",
     "text": [
      "['Cut' 'Unbekannt' 'add_Ingredient' 'crack_egg' 'frying'\n",
      " 'nothing_happening' 'pouring' 'put_together' 'spoon_something' 'stiring'\n",
      " 'take_utensils' 'to_specific' 'too_specific' 'walking']\n"
     ]
    }
   ],
   "source": [
    "testLabel = np.load('../ai_models/labels_to_numbers_full.npy')\n",
    "print (testLabel)"
   ]
  },
  {
   "cell_type": "code",
   "execution_count": 153,
   "metadata": {},
   "outputs": [
    {
     "name": "stdout",
     "output_type": "stream",
     "text": [
      "Label-Encoding der Emotionen: {'Beruhigung': 0, 'Erleichterung': 1, 'Freude': 2, 'Motivation': 3, 'Neutral': 4, 'Warnung': 5}\n",
      "______________\n",
      "[0 1 2 3 4 5]\n"
     ]
    }
   ],
   "source": [
    "#Initialisiere den Tokenizer -> Tokenizer aus JSON laden\n",
    "with open(\"../ai_models/tokenizer.json\", \"r\") as f:\n",
    "    loaded_tokenizer_json = f.read()\n",
    "tokenizer = tokenizer_from_json(loaded_tokenizer_json)\n",
    "\n",
    "# Trainiere den LabelEncoder auf den Emotionen\n",
    "label_encoder = LabelEncoder()\n",
    "emotion_labels = label_encoder.fit_transform(labels)\n",
    "print(\"Label-Encoding der Emotionen:\", dict(zip(labels, emotion_labels)))\n",
    "print(\"______________\")\n",
    "print(emotion_labels)\n"
   ]
  },
  {
   "cell_type": "code",
   "execution_count": 154,
   "metadata": {},
   "outputs": [],
   "source": [
    "def sentiment_analysis(new_text):\n",
    "    print(f\"Prediction für: {new_text}\")\n",
    "    # Schritt 1: Tokenisieren und Padding\n",
    "    sequence = tokenizer.texts_to_sequences([new_text])  # Text in Sequenz umwandeln\n",
    "    padded_sequence = pad_sequences(sequence, maxlen=50)  # Sequenz auf Länge 50 auffüllen\n",
    "\n",
    "    # Schritt 2: Vorhersage machen\n",
    "    prediction = model.predict(padded_sequence)\n",
    "\n",
    "    # Schritt 3: Die Vorhersage interpretieren\n",
    "    predicted_label = np.argmax(prediction)  # Index der höchsten Wahrscheinlichkeit\n",
    "\n",
    "    # Zurückwandeln der predicteten numerischen Labels zur Emotion\n",
    "    predicted_emotion = label_encoder.inverse_transform([predicted_label])[0]\n",
    "\n",
    "    print(f\"Vorhergesagte Emotion: {predicted_emotion} ------------------> {prediction}\")\n",
    "    print(\"___________________________________\")\n",
    "\n",
    "    return predicted_emotion"
   ]
  },
  {
   "cell_type": "code",
   "execution_count": 155,
   "metadata": {},
   "outputs": [
    {
     "name": "stdout",
     "output_type": "stream",
     "text": [
      "Prediction für: Das ist ein tolles Rezept.\n",
      "\u001b[1m1/1\u001b[0m \u001b[32m━━━━━━━━━━━━━━━━━━━━\u001b[0m\u001b[37m\u001b[0m \u001b[1m0s\u001b[0m 63ms/step\n",
      "Vorhergesagte Emotion: Warnung ------------------> [[0.05383888 0.17483468 0.17936516 0.1560171  0.06843644 0.3675078 ]]\n",
      "___________________________________\n",
      "Prediction für: Stelle die Schüssel zur Seite\n",
      "\u001b[1m1/1\u001b[0m \u001b[32m━━━━━━━━━━━━━━━━━━━━\u001b[0m\u001b[37m\u001b[0m \u001b[1m0s\u001b[0m 10ms/step\n",
      "Vorhergesagte Emotion: Neutral ------------------> [[0.03230172 0.14729448 0.04485562 0.09721155 0.49995112 0.1783856 ]]\n",
      "___________________________________\n",
      "Prediction für: Achtung, das Öl ist sehr heiß!\n",
      "\u001b[1m1/1\u001b[0m \u001b[32m━━━━━━━━━━━━━━━━━━━━\u001b[0m\u001b[37m\u001b[0m \u001b[1m0s\u001b[0m 9ms/step\n",
      "Vorhergesagte Emotion: Warnung ------------------> [[0.30019918 0.07341368 0.01825706 0.00487014 0.01494797 0.58831203]]\n",
      "___________________________________\n",
      "Prediction für: Das machst du super!\n",
      "\u001b[1m1/1\u001b[0m \u001b[32m━━━━━━━━━━━━━━━━━━━━\u001b[0m\u001b[37m\u001b[0m \u001b[1m0s\u001b[0m 9ms/step\n",
      "Vorhergesagte Emotion: Freude ------------------> [[0.00891073 0.00676021 0.88204944 0.09440546 0.00474459 0.00312953]]\n",
      "___________________________________\n",
      "Prediction für: Keine Sorge, das Rezept ist nicht schwer.\n",
      "\u001b[1m1/1\u001b[0m \u001b[32m━━━━━━━━━━━━━━━━━━━━\u001b[0m\u001b[37m\u001b[0m \u001b[1m0s\u001b[0m 9ms/step\n",
      "Vorhergesagte Emotion: Beruhigung ------------------> [[0.6191594  0.04520367 0.01395924 0.00289703 0.00713705 0.31164363]]\n",
      "___________________________________\n",
      "Prediction für: Das machst du gut\n",
      "\u001b[1m1/1\u001b[0m \u001b[32m━━━━━━━━━━━━━━━━━━━━\u001b[0m\u001b[37m\u001b[0m \u001b[1m0s\u001b[0m 9ms/step\n",
      "Vorhergesagte Emotion: Freude ------------------> [[0.01452153 0.00784243 0.8916241  0.05613682 0.02463576 0.00523945]]\n",
      "___________________________________\n"
     ]
    },
    {
     "data": {
      "text/plain": [
       "'Freude'"
      ]
     },
     "execution_count": 155,
     "metadata": {},
     "output_type": "execute_result"
    }
   ],
   "source": [
    "sentiment_analysis(\"Das ist ein tolles Rezept.\")\n",
    "sentiment_analysis(\"Stelle die Schüssel zur Seite\")\n",
    "sentiment_analysis(\"Achtung, das Öl ist sehr heiß!\")\n",
    "sentiment_analysis(\"Das machst du super!\")\n",
    "sentiment_analysis(\"Keine Sorge, das Rezept ist nicht schwer.\")\n",
    "sentiment_analysis(\"Das machst du gut\")"
   ]
  }
 ],
 "metadata": {
  "kernelspec": {
   "display_name": "env_mac",
   "language": "python",
   "name": "python3"
  },
  "language_info": {
   "codemirror_mode": {
    "name": "ipython",
    "version": 3
   },
   "file_extension": ".py",
   "mimetype": "text/x-python",
   "name": "python",
   "nbconvert_exporter": "python",
   "pygments_lexer": "ipython3",
   "version": "3.11.7"
  }
 },
 "nbformat": 4,
 "nbformat_minor": 2
}
